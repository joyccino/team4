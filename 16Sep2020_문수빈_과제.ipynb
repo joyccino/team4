{
  "nbformat": 4,
  "nbformat_minor": 0,
  "metadata": {
    "colab": {
      "name": "16Sep2020 문수빈 과제.ipynb",
      "provenance": [],
      "authorship_tag": "ABX9TyPjBh9Wc39JgzaHwZddsWdQ",
      "include_colab_link": true
    },
    "kernelspec": {
      "name": "python3",
      "display_name": "Python 3"
    }
  },
  "cells": [
    {
      "cell_type": "markdown",
      "metadata": {
        "id": "view-in-github",
        "colab_type": "text"
      },
      "source": [
        "<a href=\"https://colab.research.google.com/github/joyccino/team4/blob/moon/16Sep2020_%EB%AC%B8%EC%88%98%EB%B9%88_%EA%B3%BC%EC%A0%9C.ipynb\" target=\"_parent\"><img src=\"https://colab.research.google.com/assets/colab-badge.svg\" alt=\"Open In Colab\"/></a>"
      ]
    },
    {
      "cell_type": "markdown",
      "metadata": {
        "id": "4OckxkLqv72v",
        "colab_type": "text"
      },
      "source": [
        "#abs, sqrt, square, mean, std, var, around, ceil, floor, sign "
      ]
    },
    {
      "cell_type": "code",
      "metadata": {
        "id": "ssbECHP5wAlQ",
        "colab_type": "code",
        "colab": {
          "base_uri": "https://localhost:8080/",
          "height": 33
        },
        "outputId": "61889c8e-c11d-4197-dd4b-34cb2e428e21"
      },
      "source": [
        "def my_abs(num) :\n",
        "  if num < 0:\n",
        "    return num * -1\n",
        "  else :\n",
        "    return num\n",
        "\n",
        "my_abs(-110)"
      ],
      "execution_count": null,
      "outputs": [
        {
          "output_type": "execute_result",
          "data": {
            "text/plain": [
              "110"
            ]
          },
          "metadata": {
            "tags": []
          },
          "execution_count": 15
        }
      ]
    },
    {
      "cell_type": "code",
      "metadata": {
        "id": "OGZ9lEIaxU2l",
        "colab_type": "code",
        "colab": {
          "base_uri": "https://localhost:8080/",
          "height": 33
        },
        "outputId": "b5c3f70f-eb80-4ce3-ffb0-306141037fbe"
      },
      "source": [
        "def my_sqrt(num) :\n",
        "  return num ** 0.5\n",
        "\n",
        "my_sqrt(100)"
      ],
      "execution_count": null,
      "outputs": [
        {
          "output_type": "execute_result",
          "data": {
            "text/plain": [
              "10.0"
            ]
          },
          "metadata": {
            "tags": []
          },
          "execution_count": 16
        }
      ]
    },
    {
      "cell_type": "code",
      "metadata": {
        "id": "PJhO1AY0zosf",
        "colab_type": "code",
        "colab": {
          "base_uri": "https://localhost:8080/",
          "height": 33
        },
        "outputId": "02fbf4b2-974e-4945-dd34-2e1c54338d46"
      },
      "source": [
        "def my_square(num) :\n",
        "  return num ** 2\n",
        "\n",
        "my_square(10)"
      ],
      "execution_count": null,
      "outputs": [
        {
          "output_type": "execute_result",
          "data": {
            "text/plain": [
              "100"
            ]
          },
          "metadata": {
            "tags": []
          },
          "execution_count": 20
        }
      ]
    },
    {
      "cell_type": "code",
      "metadata": {
        "id": "PzkiQI5B4r5i",
        "colab_type": "code",
        "colab": {
          "base_uri": "https://localhost:8080/",
          "height": 33
        },
        "outputId": "987372bd-88b2-4e76-c1ef-fa739e5f194b"
      },
      "source": [
        "def my_mean(sample):\n",
        "     return sum(sample) / len(sample)\n",
        "\n",
        "\n",
        "my_mean([1,2,3])"
      ],
      "execution_count": null,
      "outputs": [
        {
          "output_type": "execute_result",
          "data": {
            "text/plain": [
              "2.0"
            ]
          },
          "metadata": {
            "tags": []
          },
          "execution_count": 55
        }
      ]
    },
    {
      "cell_type": "code",
      "metadata": {
        "id": "Sln-rD7q8fN7",
        "colab_type": "code",
        "colab": {
          "base_uri": "https://localhost:8080/",
          "height": 33
        },
        "outputId": "ee49aae9-ed4c-4f41-b07d-99550c51709e"
      },
      "source": [
        "#표준편차 = 분산의 제곱근. 분산(variance)와 제곱근 관련 매서드를 미리 만들어야한다.\n",
        "\n",
        "def my_variance(data, ddof=0): #분산 매서드 만든것\n",
        "     n = len(data)\n",
        "     mean = sum(data) / n\n",
        "     return sum((x - mean) ** 2 for x in data) / (n - ddof)\n",
        "\n",
        "def my_sqrt(num) : #square 매서드 만든것\n",
        "  return num ** 0.5\n",
        "\n",
        "def my_std(data): #표준 편차 매서드 도전한것\n",
        "     var = variance(data)\n",
        "     std = my_sqrt(var)\n",
        "     return std\n",
        "\n",
        "my_std([4, 8, 6, 5, 3, 2, 8, 9, 2, 5])"
      ],
      "execution_count": null,
      "outputs": [
        {
          "output_type": "execute_result",
          "data": {
            "text/plain": [
              "2.4"
            ]
          },
          "metadata": {
            "tags": []
          },
          "execution_count": 51
        }
      ]
    },
    {
      "cell_type": "code",
      "metadata": {
        "id": "CJGnpskr9Lsc",
        "colab_type": "code",
        "colab": {
          "base_uri": "https://localhost:8080/",
          "height": 33
        },
        "outputId": "cc77d5fc-4b5b-46e5-c52f-01a47e74d811"
      },
      "source": [
        "#ceil() 소숫점 자리 무조건 올리기\n",
        "def my_ceil(num):\n",
        "    return int(num) + int((num>0) and (num - int(num)) > 0)\n",
        "my_ceil(3.333)"
      ],
      "execution_count": null,
      "outputs": [
        {
          "output_type": "execute_result",
          "data": {
            "text/plain": [
              "4"
            ]
          },
          "metadata": {
            "tags": []
          },
          "execution_count": 61
        }
      ]
    },
    {
      "cell_type": "code",
      "metadata": {
        "id": "yE4A9Vfd_dlI",
        "colab_type": "code",
        "colab": {
          "base_uri": "https://localhost:8080/",
          "height": 33
        },
        "outputId": "76c0ac9d-ee0f-4922-b4c8-762fcafdbfb9"
      },
      "source": [
        "#floor() 소숫점 아래 무조건 무시하기\n",
        "def my_floor(num):\n",
        "    a = int(num)\n",
        "    return a if a == num or num >= 0 else a-1\n",
        "my_floor(3.3333)"
      ],
      "execution_count": null,
      "outputs": [
        {
          "output_type": "execute_result",
          "data": {
            "text/plain": [
              "3"
            ]
          },
          "metadata": {
            "tags": []
          },
          "execution_count": 67
        }
      ]
    },
    {
      "cell_type": "code",
      "metadata": {
        "id": "cSSWXL95_fBJ",
        "colab_type": "code",
        "colab": {
          "base_uri": "https://localhost:8080/",
          "height": 33
        },
        "outputId": "11eca61b-4b96-4e05-85d4-2557d1f2114c"
      },
      "source": [
        "#whole numbers로 반올림 하기.\n",
        "def my_around(num):\n",
        "  return int(num-0.5)+1\n",
        "\n",
        "test1 = my_around(3.333)\n",
        "test2 = my_around(3.9)\n",
        "print(test1, test2)"
      ],
      "execution_count": null,
      "outputs": [
        {
          "output_type": "stream",
          "text": [
            "3 4\n"
          ],
          "name": "stdout"
        }
      ]
    },
    {
      "cell_type": "code",
      "metadata": {
        "id": "Eh9nDL3p_kE-",
        "colab_type": "code",
        "colab": {
          "base_uri": "https://localhost:8080/",
          "height": 33
        },
        "outputId": "63ff7d52-a9cb-4a3d-bd87-18ab3020d2e5"
      },
      "source": [
        "#np.sign() 각 성분의 부호 계산하는 메서드(+인 경우 1, -인 경우 -1, 0인 경우 0)\n",
        "\n",
        "def my_sign(num):\n",
        "  if int(num) > 0:\n",
        "    return 1\n",
        "  elif int(num) < 0:\n",
        "    return -1\n",
        "  else:\n",
        "    return 0\n",
        "\n",
        "print(0)"
      ],
      "execution_count": null,
      "outputs": [
        {
          "output_type": "stream",
          "text": [
            "0\n"
          ],
          "name": "stdout"
        }
      ]
    }
  ]
}