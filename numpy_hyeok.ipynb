{
 "cells": [
  {
   "cell_type": "code",
   "execution_count": 21,
   "metadata": {},
   "outputs": [],
   "source": [
    "import numpy as np\n",
    "import random as ran"
   ]
  },
  {
   "cell_type": "code",
   "execution_count": 18,
   "metadata": {},
   "outputs": [
    {
     "name": "stdout",
     "output_type": "stream",
     "text": [
      "[[1. 0. 0.]\n",
      " [0. 1. 0.]\n",
      " [0. 0. 1.]]\n"
     ]
    }
   ],
   "source": [
    "a=np.eye(3)\n",
    "print(a)"
   ]
  },
  {
   "cell_type": "code",
   "execution_count": 19,
   "metadata": {},
   "outputs": [],
   "source": [
    "def h_eye(value):\n",
    "    box = []\n",
    "    for i in range(value):\n",
    "        mini = []\n",
    "        for j in range(value):\n",
    "            if i==j:\n",
    "                mini.append(1)\n",
    "            else:\n",
    "                mini.append(0)\n",
    "        box.append(mini)\n",
    "        \n",
    "    print(box)"
   ]
  },
  {
   "cell_type": "code",
   "execution_count": 47,
   "metadata": {},
   "outputs": [
    {
     "name": "stdout",
     "output_type": "stream",
     "text": [
      "[[1, 0, 0], [0, 1, 0], [0, 0, 1]]\n"
     ]
    }
   ],
   "source": [
    "h_eye(3)"
   ]
  },
  {
   "cell_type": "code",
   "execution_count": 31,
   "metadata": {},
   "outputs": [
    {
     "data": {
      "text/plain": [
       "array([  5.        ,  20.83333333,  36.66666667,  52.5       ,\n",
       "        68.33333333,  84.16666667, 100.        ])"
      ]
     },
     "execution_count": 31,
     "metadata": {},
     "output_type": "execute_result"
    }
   ],
   "source": [
    "np.linspace(5,100,7)"
   ]
  },
  {
   "cell_type": "code",
   "execution_count": 45,
   "metadata": {},
   "outputs": [],
   "source": [
    "def h_linspace(start,end,cnt):\n",
    "    box = []\n",
    "    for i in range(cnt):\n",
    "        box.append(start+((end-start)/(cnt-1))*i)\n",
    "        \n",
    "    print(box)"
   ]
  },
  {
   "cell_type": "code",
   "execution_count": 46,
   "metadata": {},
   "outputs": [
    {
     "name": "stdout",
     "output_type": "stream",
     "text": [
      "[5.0, 20.833333333333336, 36.66666666666667, 52.5, 68.33333333333334, 84.16666666666667, 100.0]\n"
     ]
    }
   ],
   "source": [
    "h_linspace(5,100,7)"
   ]
  },
  {
   "cell_type": "code",
   "execution_count": 50,
   "metadata": {},
   "outputs": [
    {
     "data": {
      "text/plain": [
       "3"
      ]
     },
     "execution_count": 50,
     "metadata": {},
     "output_type": "execute_result"
    }
   ],
   "source": [
    "a=np.array([[[1,2,3],[4,5,6]],[[1,2,3],[4,5,6]]])\n",
    "a.ndim"
   ]
  },
  {
   "cell_type": "code",
   "execution_count": 60,
   "metadata": {},
   "outputs": [],
   "source": [
    "def h_ndim(data) :\n",
    "    count = 0\n",
    "    is_out = True\n",
    "    while is_out :\n",
    "        if type(data[0]) == list :\n",
    "            count += 1\n",
    "            data = data[0]\n",
    "        else :\n",
    "            count += 1\n",
    "            is_out = False\n",
    "    return count"
   ]
  },
  {
   "cell_type": "code",
   "execution_count": 62,
   "metadata": {},
   "outputs": [
    {
     "data": {
      "text/plain": [
       "2"
      ]
     },
     "execution_count": 62,
     "metadata": {},
     "output_type": "execute_result"
    }
   ],
   "source": [
    "a=[[1,2,3]]\n",
    "h_ndim(a)"
   ]
  },
  {
   "cell_type": "code",
   "execution_count": 104,
   "metadata": {},
   "outputs": [
    {
     "data": {
      "text/plain": [
       "array([0.18758353, 0.45576685, 0.03406323, 0.69912612, 0.72994078])"
      ]
     },
     "execution_count": 104,
     "metadata": {},
     "output_type": "execute_result"
    }
   ],
   "source": [
    "np.random.rand(5)"
   ]
  },
  {
   "cell_type": "code",
   "execution_count": 105,
   "metadata": {},
   "outputs": [],
   "source": [
    "def h_random_rand(num):\n",
    "    box = []\n",
    "    for i in range(num):\n",
    "        box.append(ran.random())\n",
    "    return box"
   ]
  },
  {
   "cell_type": "code",
   "execution_count": 125,
   "metadata": {},
   "outputs": [
    {
     "data": {
      "text/plain": [
       "[0.18631646002093183,\n",
       " 0.6721081298312324,\n",
       " 0.3345527043662292,\n",
       " 0.10626223568111126,\n",
       " 0.3659736535472389]"
      ]
     },
     "execution_count": 125,
     "metadata": {},
     "output_type": "execute_result"
    }
   ],
   "source": [
    "h_random_rand(5)"
   ]
  },
  {
   "cell_type": "code",
   "execution_count": 141,
   "metadata": {},
   "outputs": [
    {
     "data": {
      "text/plain": [
       "array([9, 5, 4, 6, 6])"
      ]
     },
     "execution_count": 141,
     "metadata": {},
     "output_type": "execute_result"
    }
   ],
   "source": [
    "np.random.randint(3,10,5)"
   ]
  },
  {
   "cell_type": "code",
   "execution_count": 153,
   "metadata": {},
   "outputs": [],
   "source": [
    "def h_random_randint(min,max,num):\n",
    "    box = []\n",
    "    for i in range(num):\n",
    "        box.append(ran.randint(min,max-1))\n",
    "    return box"
   ]
  },
  {
   "cell_type": "code",
   "execution_count": 158,
   "metadata": {},
   "outputs": [
    {
     "data": {
      "text/plain": [
       "[4, 6, 3, 3, 8]"
      ]
     },
     "execution_count": 158,
     "metadata": {},
     "output_type": "execute_result"
    }
   ],
   "source": [
    "h_random_randint(3,10,5)"
   ]
  },
  {
   "cell_type": "code",
   "execution_count": 113,
   "metadata": {},
   "outputs": [
    {
     "data": {
      "text/plain": [
       "2"
      ]
     },
     "execution_count": 113,
     "metadata": {},
     "output_type": "execute_result"
    }
   ],
   "source": [
    "a=[4,5,7,3,1,7]\n",
    "np.argmax(a)"
   ]
  },
  {
   "cell_type": "code",
   "execution_count": 111,
   "metadata": {},
   "outputs": [],
   "source": [
    "def h_argmax(data):\n",
    "    max=data[0]\n",
    "    idx=0\n",
    "    argmax=0\n",
    "    for i in data:\n",
    "        if i > max:\n",
    "            max=i\n",
    "            argmax=idx\n",
    "        idx+=1\n",
    "    return argmax"
   ]
  },
  {
   "cell_type": "code",
   "execution_count": 115,
   "metadata": {},
   "outputs": [
    {
     "data": {
      "text/plain": [
       "2"
      ]
     },
     "execution_count": 115,
     "metadata": {},
     "output_type": "execute_result"
    }
   ],
   "source": [
    "h_argmax(a)"
   ]
  },
  {
   "cell_type": "code",
   "execution_count": 117,
   "metadata": {},
   "outputs": [
    {
     "data": {
      "text/plain": [
       "4"
      ]
     },
     "execution_count": 117,
     "metadata": {},
     "output_type": "execute_result"
    }
   ],
   "source": [
    "np.argmin(a)"
   ]
  },
  {
   "cell_type": "code",
   "execution_count": 118,
   "metadata": {},
   "outputs": [],
   "source": [
    "def h_argmin(data):\n",
    "    min=data[0]\n",
    "    idx=0\n",
    "    argmin=0\n",
    "    for i in data:\n",
    "        if i < min:\n",
    "            min=i\n",
    "            argmin=idx\n",
    "        idx+=1\n",
    "    return argmin"
   ]
  },
  {
   "cell_type": "code",
   "execution_count": 120,
   "metadata": {},
   "outputs": [
    {
     "data": {
      "text/plain": [
       "4"
      ]
     },
     "execution_count": 120,
     "metadata": {},
     "output_type": "execute_result"
    }
   ],
   "source": [
    "h_argmin(a)"
   ]
  },
  {
   "cell_type": "code",
   "execution_count": 122,
   "metadata": {},
   "outputs": [
    {
     "data": {
      "text/plain": [
       "array([ 4,  9, 16, 19, 20, 27], dtype=int32)"
      ]
     },
     "execution_count": 122,
     "metadata": {},
     "output_type": "execute_result"
    }
   ],
   "source": [
    "a=[4,5,7,3,1,7]\n",
    "np.cumsum(a)"
   ]
  },
  {
   "cell_type": "code",
   "execution_count": 123,
   "metadata": {},
   "outputs": [],
   "source": [
    "def h_cumsum(data):\n",
    "    sum=0\n",
    "    cumsum=[]\n",
    "    for i in data:\n",
    "        sum+=i\n",
    "        cumsum.append(sum)\n",
    "    return cumsum"
   ]
  },
  {
   "cell_type": "code",
   "execution_count": 124,
   "metadata": {},
   "outputs": [
    {
     "data": {
      "text/plain": [
       "[4, 9, 16, 19, 20, 27]"
      ]
     },
     "execution_count": 124,
     "metadata": {},
     "output_type": "execute_result"
    }
   ],
   "source": [
    "h_cumsum(a)"
   ]
  },
  {
   "cell_type": "code",
   "execution_count": 160,
   "metadata": {},
   "outputs": [
    {
     "data": {
      "text/plain": [
       "array([False, False, False, False, False,  True,  True])"
      ]
     },
     "execution_count": 160,
     "metadata": {},
     "output_type": "execute_result"
    }
   ],
   "source": [
    "a=[1,3,6,2,6,5,6]\n",
    "b=[6,7,8,4,4,5,6]\n",
    "np.equal(a,b)"
   ]
  },
  {
   "cell_type": "code",
   "execution_count": 183,
   "metadata": {},
   "outputs": [],
   "source": [
    "def h_equal(data1,data2):\n",
    "    ndim=h_ndim(data1)\n",
    "    box=[]\n",
    "    if ndim == 1:\n",
    "        for i in range(len(data1)):\n",
    "            box.append('True' if data1[i] == data2[i] else 'False')\n",
    "    elif ndim == 2:\n",
    "        for i in range(len(data1)):\n",
    "            mini=[]\n",
    "            for j in range(len(data1[0])):\n",
    "                mini.append('True' if data1[i][j] == data2[i][j] else 'False')\n",
    "            box.append(mini)\n",
    "    elif ndim == 3:\n",
    "        for i in range(len(data1)):\n",
    "            mini=[]\n",
    "            for j in range(len(data1[0])):\n",
    "                tiny=[]\n",
    "                for k in range(len(data1[0][0])):\n",
    "                    tiny.append('True' if data1[i][j][k] == data2[i][j][k] else 'False')\n",
    "                mini.append(tiny)\n",
    "            box.append(mini)\n",
    "    return box"
   ]
  },
  {
   "cell_type": "code",
   "execution_count": 184,
   "metadata": {},
   "outputs": [
    {
     "data": {
      "text/plain": [
       "[[['False', 'True', 'True'], ['True', 'False', 'False']],\n",
       " [['True', 'True', 'True'], ['True', 'True', 'True']]]"
      ]
     },
     "execution_count": 184,
     "metadata": {},
     "output_type": "execute_result"
    }
   ],
   "source": [
    "a=[[[1,2,3],[4,5,6]],[[1,2,3],[4,5,6]]]\n",
    "b=[[[4,2,3],[4,7,4]],[[1,2,3],[4,5,6]]]\n",
    "h_equal(a,b)"
   ]
  },
  {
   "cell_type": "code",
   "execution_count": 169,
   "metadata": {},
   "outputs": [
    {
     "data": {
      "text/plain": [
       "array([ True,  True,  True,  True,  True, False, False])"
      ]
     },
     "execution_count": 169,
     "metadata": {},
     "output_type": "execute_result"
    }
   ],
   "source": [
    "a=[1,3,6,2,6,5,6]\n",
    "b=[6,7,8,4,4,5,6]\n",
    "np.not_equal(a,b)"
   ]
  },
  {
   "cell_type": "code",
   "execution_count": 171,
   "metadata": {},
   "outputs": [],
   "source": [
    "def h_not_equal(data1,data2):\n",
    "    ndim=h_ndim(data1)\n",
    "    box=[]\n",
    "    if ndim == 1:\n",
    "        for i in range(len(data1)):\n",
    "            box.append('True' if data1[i] != data2[i] else 'False')\n",
    "    elif ndim == 2:\n",
    "        for i in range(len(data1)):\n",
    "            mini=[]\n",
    "            for j in range(len(data1[0])):\n",
    "                mini.append('True' if data1[i][j] != data2[i][j] else 'False')\n",
    "            box.append(mini)\n",
    "    return box"
   ]
  },
  {
   "cell_type": "code",
   "execution_count": 173,
   "metadata": {},
   "outputs": [
    {
     "data": {
      "text/plain": [
       "[['True', 'False', 'False'], ['False', 'True', 'True']]"
      ]
     },
     "execution_count": 173,
     "metadata": {},
     "output_type": "execute_result"
    }
   ],
   "source": [
    "a=[[1,2,3],[4,5,6]]\n",
    "b=[[4,2,3],[4,7,4]]\n",
    "h_not_equal(a,b)"
   ]
  },
  {
   "cell_type": "code",
   "execution_count": 186,
   "metadata": {},
   "outputs": [
    {
     "data": {
      "text/plain": [
       "array([[[1, 2],\n",
       "        [3, 4]],\n",
       "\n",
       "       [[1, 2],\n",
       "        [3, 4]]])"
      ]
     },
     "execution_count": 186,
     "metadata": {},
     "output_type": "execute_result"
    }
   ],
   "source": [
    "arr = np.array([[[1,2],[3,4]],[[1,2],[3,4]]])\n",
    "arr"
   ]
  },
  {
   "cell_type": "code",
   "execution_count": 189,
   "metadata": {},
   "outputs": [],
   "source": [
    "def gubin_array(arr):\n",
    "    return arr"
   ]
  },
  {
   "cell_type": "code",
   "execution_count": 190,
   "metadata": {},
   "outputs": [
    {
     "data": {
      "text/plain": [
       "[[[1, 2], [3, 4]], [[1, 2], [3, 4]]]"
      ]
     },
     "execution_count": 190,
     "metadata": {},
     "output_type": "execute_result"
    }
   ],
   "source": [
    "gubin_array([[[1,2],[3,4]],[[1,2],[3,4]]])"
   ]
  }
 ],
 "metadata": {
  "kernelspec": {
   "display_name": "Python [conda env:data_env] *",
   "language": "python",
   "name": "conda-env-data_env-py"
  },
  "language_info": {
   "codemirror_mode": {
    "name": "ipython",
    "version": 3
   },
   "file_extension": ".py",
   "mimetype": "text/x-python",
   "name": "python",
   "nbconvert_exporter": "python",
   "pygments_lexer": "ipython3",
   "version": "3.7.7"
  }
 },
 "nbformat": 4,
 "nbformat_minor": 4
}
